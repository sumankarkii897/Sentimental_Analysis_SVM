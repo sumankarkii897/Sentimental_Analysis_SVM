{
 "cells": [
  {
   "cell_type": "code",
   "execution_count": 45,
   "id": "6bc20ad1-3e2e-41a6-bc46-b5c96fbe7417",
   "metadata": {},
   "outputs": [],
   "source": [
    "import pandas as pd\n",
    "import numpy as np\n",
    "import seaborn as sns\n",
    "import matplotlib.pyplot as plt\n",
    "import re\n",
    "from sklearn.model_selection import train_test_split\n",
    "import stopwordsiso as stopwords\n"
   ]
  },
  {
   "cell_type": "code",
   "execution_count": 49,
   "id": "9adffbb0-04fc-4ea9-af13-6879c2724483",
   "metadata": {},
   "outputs": [],
   "source": [
    "# nepali_stopwords = set([\n",
    "#     'म', 'तपाईं', 'उस', 'हामी', 'यो', 'के', 'कसरी', 'किन', 'छ', 'छन्', 'हो', 'थियो',\n",
    "#     'गरेको', 'गर्छ', 'भएको', 'र', 'मा', 'को', 'का', 'लाई', 'ले', 'देखि', 'संग', 'तर',\n",
    "#     'कि', 'वा', 'यदि', 'भने', 'पनि', 'थिए', 'भए', 'भयो', 'गरे', 'गर्छन्', 'गर्नु',\n",
    "#     'रहेको', 'रहेछ', 'थाले', 'गएको', 'भन्नु', 'हुन्', 'भन्छन्', 'थिएन', 'नभएको'\n",
    "# ])\n",
    "nepali_stopwords = set([\n",
    "    'अनि', 'अहिले', 'अरू', 'अर्को', 'अब', 'आफ्नो', 'इत्यादि', 'उनि', 'उसले', 'एक', 'एउटा',\n",
    "    'एउटै', 'ओ', 'कति', 'कसैले', 'कसैलाई', 'कसैसँग', 'कसै', 'कसैको', 'कसको', 'कहिले',\n",
    "    'कि', 'के', 'को', 'कोही', 'कोहीलाई', 'कोहीसँग', 'कुन', 'कुनै', 'कृपया', 'गरेको',\n",
    "    'गर्छ', 'गर्नु', 'गरे', 'गर्छु', 'गरेछ', 'गरेका', 'गए', 'गएका', 'गएर', 'चाहिन्छ',\n",
    "    'चाहे', 'जब', 'जहाँ', 'जे', 'त', 'तपाईं', 'तपाइँ', 'तपाइँले', 'तर', 'तिनी', 'तिनीहरू',\n",
    "    'तिनीहरूलाई', 'तिनीहरूका', 'तिनीहरूको', 'ती', 'तीन', 'त्यो', 'त्स्याइ', 'दिएको', 'दिएर',\n",
    "    'दुई', 'देखि', 'न', 'नभएको', 'नभए', 'नत्र', 'नजिकै', 'नाम', 'निकै', 'पनि', 'पर्छ',\n",
    "    'पढ्ने', 'पारेर', 'पहिले', 'पनि', 'परेको', 'प्रति', 'फेरि', 'बनेको', 'बन्छ', 'बरु',\n",
    "    'बाहेक', 'भएको', 'भएकाले', 'भएर', 'भने', 'भन्ने', 'भन्नु', 'भयो', 'भइ', 'भइरहेको',\n",
    "    'म', 'मलाई', 'मेरो', 'हामी', 'हामीले', 'हाम्रो', 'हुन्छ', 'हुन्', 'हो', 'होइन', 'हरु',\n",
    "    'संग', 'सक्ने', 'सबै', 'साथै', 'सधैं', 'समेत', 'सो', 'सोही', 'साथ', 'सिर्फ', 'सोधेको',\n",
    "    'हुनु', 'हुन', 'थियो', 'थिए', 'थिइन्', 'थिएन', 'थाल्यो', 'तथा'\n",
    "])\n"
   ]
  },
  {
   "cell_type": "code",
   "execution_count": 60,
   "id": "2a85cc06-70d6-4a65-aa83-baf9dd9eaa48",
   "metadata": {},
   "outputs": [
    {
     "name": "stdout",
     "output_type": "stream",
     "text": [
      "Index(['Unnamed: 0', 'Sentences', 'Sentiment'], dtype='object')\n"
     ]
    },
    {
     "data": {
      "text/html": [
       "<div>\n",
       "<style scoped>\n",
       "    .dataframe tbody tr th:only-of-type {\n",
       "        vertical-align: middle;\n",
       "    }\n",
       "\n",
       "    .dataframe tbody tr th {\n",
       "        vertical-align: top;\n",
       "    }\n",
       "\n",
       "    .dataframe thead th {\n",
       "        text-align: right;\n",
       "    }\n",
       "</style>\n",
       "<table border=\"1\" class=\"dataframe\">\n",
       "  <thead>\n",
       "    <tr style=\"text-align: right;\">\n",
       "      <th></th>\n",
       "      <th>Unnamed: 0</th>\n",
       "      <th>Sentences</th>\n",
       "      <th>Sentiment</th>\n",
       "    </tr>\n",
       "  </thead>\n",
       "  <tbody>\n",
       "    <tr>\n",
       "      <th>0</th>\n",
       "      <td>0</td>\n",
       "      <td>म एक शिक्षक , शिक्षा क्षेत्रमा रमाएको मान्छे ।...</td>\n",
       "      <td>1</td>\n",
       "    </tr>\n",
       "    <tr>\n",
       "      <th>1</th>\n",
       "      <td>1</td>\n",
       "      <td>म सरकारी स्कूल/कलेजमा पढेर करीब १२ बर्ष भन्दा ...</td>\n",
       "      <td>1</td>\n",
       "    </tr>\n",
       "    <tr>\n",
       "      <th>2</th>\n",
       "      <td>2</td>\n",
       "      <td>कति राम्रो शिव मन्दिर देख्न पाइयो कुन ठाउको हो...</td>\n",
       "      <td>1</td>\n",
       "    </tr>\n",
       "    <tr>\n",
       "      <th>3</th>\n",
       "      <td>3</td>\n",
       "      <td>मारुनी भन्ने वितिकै सामान्य नाचनीमा आधारित कथा...</td>\n",
       "      <td>1</td>\n",
       "    </tr>\n",
       "    <tr>\n",
       "      <th>4</th>\n",
       "      <td>4</td>\n",
       "      <td>यो फ्लिम हेरिसकेपछी थाहा भयो कि किन दर्सकहरुले...</td>\n",
       "      <td>1</td>\n",
       "    </tr>\n",
       "  </tbody>\n",
       "</table>\n",
       "</div>"
      ],
      "text/plain": [
       "   Unnamed: 0                                          Sentences  Sentiment\n",
       "0           0  म एक शिक्षक , शिक्षा क्षेत्रमा रमाएको मान्छे ।...          1\n",
       "1           1  म सरकारी स्कूल/कलेजमा पढेर करीब १२ बर्ष भन्दा ...          1\n",
       "2           2  कति राम्रो शिव मन्दिर देख्न पाइयो कुन ठाउको हो...          1\n",
       "3           3  मारुनी भन्ने वितिकै सामान्य नाचनीमा आधारित कथा...          1\n",
       "4           4  यो फ्लिम हेरिसकेपछी थाहा भयो कि किन दर्सकहरुले...          1"
      ]
     },
     "execution_count": 60,
     "metadata": {},
     "output_type": "execute_result"
    }
   ],
   "source": [
    "# reading data from given path\n",
    "df=pd.read_csv(r\"C:\\Users\\Suman Karki 29344\\Downloads\\archive (2).zip\")\n",
    "# Removing nto available data\n",
    "df.dropna(subset=['Sentences'], inplace=True)\n",
    "# Removing duplicated data\n",
    "df.drop_duplicates(subset=['Sentences'], inplace=True)\n",
    "print(df.columns)\n",
    "# Clean Data\n",
    "df.head()\n",
    "\n",
    "\n",
    "\n"
   ]
  },
  {
   "cell_type": "code",
   "execution_count": 62,
   "id": "698a33ca-fe44-4133-956a-6d007989b00c",
   "metadata": {},
   "outputs": [
    {
     "name": "stdout",
     "output_type": "stream",
     "text": [
      "                                           Sentences  \\\n",
      "0  म एक शिक्षक , शिक्षा क्षेत्रमा रमाएको मान्छे ।...   \n",
      "1  म सरकारी स्कूल/कलेजमा पढेर करीब १२ बर्ष भन्दा ...   \n",
      "2  कति राम्रो शिव मन्दिर देख्न पाइयो कुन ठाउको हो...   \n",
      "3  मारुनी भन्ने वितिकै सामान्य नाचनीमा आधारित कथा...   \n",
      "4  यो फ्लिम हेरिसकेपछी थाहा भयो कि किन दर्सकहरुले...   \n",
      "\n",
      "                                          clean_text  Sentiment  \n",
      "0  म एक शिक्षक शिक्षा क्षेत्रमा रमाएको मान्छे साम...          1  \n",
      "1  म सरकारी स्कूलकलेजमा पढेर करीब बर्ष भन्दा बढी ...          1  \n",
      "2  कति राम्रो शिव मन्दिर देख्न पाइयो कुन ठाउको हो...          1  \n",
      "3  मारुनी भन्ने वितिकै सामान्य नाचनीमा आधारित कथा...          1  \n",
      "4  यो फ्लिम हेरिसकेपछी थाहा भयो कि किन दर्सकहरुले...          1  \n"
     ]
    }
   ],
   "source": [
    "# Clean Data\n",
    "\n",
    "def clean_text(text):\n",
    "    text = str(text)\n",
    "   \n",
    "    text = re.sub(r\"http\\S+|www\\S+|https\\S+\", '', text)  # Remove links\n",
    "    text = re.sub(r\"[a-zA-Z]\", \"\", text)                 # Remove English letters\n",
    "    text = re.sub(r\"[^\\u0900-\\u097F\\s]\", \"\", text)       # Remove everything except Nepali and spaces\n",
    "    # text = re.sub(r\"\\d+\", \"\", text) # Remove digits\n",
    "    text = re.sub(r\"[^\\u0900-\\u097F\\s]\", \"\", text)  # Remove punctuation & emojis\n",
    "    text = re.sub(r\"[0-9\\u0966-\\u096F]+\", \"\", text)  # Remove Nepali and English digits \n",
    "    text=re.sub(r\"।\",\"\",text) # remove |\n",
    "    text = re.sub(r'\\s+', ' ', text).strip()             # Normalize spaces\n",
    "    \n",
    "    return text\n",
    "# Cleaning\n",
    "df['clean_text'] = df['Sentences'].apply(clean_text)\n",
    "\n",
    "\n",
    "# Show cleaned data\n",
    "print(df[['Sentences', 'clean_text', 'Sentiment']].head())"
   ]
  },
  {
   "cell_type": "code",
   "execution_count": 58,
   "id": "81928c62-aef3-44d5-adf6-d0b6260392fe",
   "metadata": {},
   "outputs": [
    {
     "name": "stdout",
     "output_type": "stream",
     "text": [
      "                                          clean_text  \\\n",
      "0  म एक शिक्षक शिक्षा क्षेत्रमा रमाएको मान्छे साम...   \n",
      "1  म सरकारी स्कूलकलेजमा पढेर करीब बर्ष भन्दा बढी ...   \n",
      "2  कति राम्रो शिव मन्दिर देख्न पाइयो कुन ठाउको हो...   \n",
      "3  मारुनी भन्ने वितिकै सामान्य नाचनीमा आधारित कथा...   \n",
      "4  यो फ्लिम हेरिसकेपछी थाहा भयो कि किन दर्सकहरुले...   \n",
      "\n",
      "                                               token  \n",
      "0  [म, एक, शिक्षक, शिक्षा, क्षेत्रमा, रमाएको, मान...  \n",
      "1  [म, सरकारी, स्कूलकलेजमा, पढेर, करीब, बर्ष, भन्...  \n",
      "2  [कति, राम्रो, शिव, मन्दिर, देख्न, पाइयो, कुन, ...  \n",
      "3  [मारुनी, भन्ने, वितिकै, सामान्य, नाचनीमा, आधार...  \n",
      "4  [यो, फ्लिम, हेरिसकेपछी, थाहा, भयो, कि, किन, दर...  \n"
     ]
    }
   ],
   "source": [
    "# Tokenizing \n",
    "def tokenization(sentence):\n",
    "    return sentence.split()\n",
    "# Applying the tokenization function\n",
    "df['token'] = df['clean_text'].apply(tokenization)\n",
    "print(df[[\"clean_text\",\"token\"]].head())"
   ]
  },
  {
   "cell_type": "code",
   "execution_count": 59,
   "id": "0a1a08fe-82ed-4aff-92fa-067e0a3be281",
   "metadata": {},
   "outputs": [
    {
     "name": "stdout",
     "output_type": "stream",
     "text": [
      "Filtered token 0        [शिक्षक, शिक्षा, क्षेत्रमा, रमाएको, मान्छे, सा...\n",
      "1        [सरकारी, स्कूलकलेजमा, पढेर, करीब, बर्ष, भन्दा,...\n",
      "2        [राम्रो, शिव, मन्दिर, देख्न, पाइयो, ठाउको, होल...\n",
      "3        [मारुनी, वितिकै, सामान्य, नाचनीमा, आधारित, कथा...\n",
      "4        [यो, फ्लिम, हेरिसकेपछी, थाहा, किन, दर्सकहरुले,...\n",
      "                               ...                        \n",
      "35784    [कोरोना, भाइरसलाई, विश्व, स्वास्थ्य, संगठनले, ...\n",
      "35785       [डब्ल्युएचओले, दियाेको, कोरोनाको, नयाँ, कोभिड]\n",
      "35786           [कोरोना, भाइरस, संक्रमणको, औपचारिक, कोभिड]\n",
      "35787    [विश्व, स्वास्थ्य, संगठन, डब्लुएचओ, ले, नोबल, ...\n",
      "35788    [कोरोनाभाइरसका, सङ्क्रमणको, कोभिड, भनेर, विश्व...\n",
      "Name: filtered_tokens, Length: 35732, dtype: object\n",
      "0    [शिक्षक, शिक्षा, क्षेत्रमा, रमाएको, मान्छे, सा...\n",
      "1    [सरकारी, स्कूलकलेजमा, पढेर, करीब, बर्ष, भन्दा,...\n",
      "2    [राम्रो, शिव, मन्दिर, देख्न, पाइयो, ठाउको, होल...\n",
      "3    [मारुनी, वितिकै, सामान्य, नाचनीमा, आधारित, कथा...\n",
      "4    [यो, फ्लिम, हेरिसकेपछी, थाहा, किन, दर्सकहरुले,...\n",
      "Name: filtered_tokens, dtype: object\n",
      "                                           Sentences  \\\n",
      "0  म एक शिक्षक , शिक्षा क्षेत्रमा रमाएको मान्छे ।...   \n",
      "1  म सरकारी स्कूल/कलेजमा पढेर करीब १२ बर्ष भन्दा ...   \n",
      "2  कति राम्रो शिव मन्दिर देख्न पाइयो कुन ठाउको हो...   \n",
      "3  मारुनी भन्ने वितिकै सामान्य नाचनीमा आधारित कथा...   \n",
      "4  यो फ्लिम हेरिसकेपछी थाहा भयो कि किन दर्सकहरुले...   \n",
      "\n",
      "                                          clean_text  \\\n",
      "0  म एक शिक्षक शिक्षा क्षेत्रमा रमाएको मान्छे साम...   \n",
      "1  म सरकारी स्कूलकलेजमा पढेर करीब बर्ष भन्दा बढी ...   \n",
      "2  कति राम्रो शिव मन्दिर देख्न पाइयो कुन ठाउको हो...   \n",
      "3  मारुनी भन्ने वितिकै सामान्य नाचनीमा आधारित कथा...   \n",
      "4  यो फ्लिम हेरिसकेपछी थाहा भयो कि किन दर्सकहरुले...   \n",
      "\n",
      "                                               token  \\\n",
      "0  [म, एक, शिक्षक, शिक्षा, क्षेत्रमा, रमाएको, मान...   \n",
      "1  [म, सरकारी, स्कूलकलेजमा, पढेर, करीब, बर्ष, भन्...   \n",
      "2  [कति, राम्रो, शिव, मन्दिर, देख्न, पाइयो, कुन, ...   \n",
      "3  [मारुनी, भन्ने, वितिकै, सामान्य, नाचनीमा, आधार...   \n",
      "4  [यो, फ्लिम, हेरिसकेपछी, थाहा, भयो, कि, किन, दर...   \n",
      "\n",
      "                                     filtered_tokens  Sentiment  \n",
      "0  [शिक्षक, शिक्षा, क्षेत्रमा, रमाएको, मान्छे, सा...          1  \n",
      "1  [सरकारी, स्कूलकलेजमा, पढेर, करीब, बर्ष, भन्दा,...          1  \n",
      "2  [राम्रो, शिव, मन्दिर, देख्न, पाइयो, ठाउको, होल...          1  \n",
      "3  [मारुनी, वितिकै, सामान्य, नाचनीमा, आधारित, कथा...          1  \n",
      "4  [यो, फ्लिम, हेरिसकेपछी, थाहा, किन, दर्सकहरुले,...          1  \n"
     ]
    }
   ],
   "source": [
    "# Stop word \n",
    "def remove_stopwords(tokens):\n",
    "    return [word for word in tokens if word not in nepali_stopwords]\n",
    "\n",
    "df['filtered_tokens'] = df['token'].apply(remove_stopwords)\n",
    "print(\"Filtered token\",df['filtered_tokens'])\n",
    "print(df[\"filtered_tokens\"].head())\n",
    "# Show result\n",
    "print(df[['Sentences', 'clean_text', 'token', 'filtered_tokens', 'Sentiment']].head())"
   ]
  },
  {
   "cell_type": "code",
   "execution_count": 64,
   "id": "756db422-6624-4702-b8e2-f0c04fee2e9b",
   "metadata": {},
   "outputs": [
    {
     "data": {
      "text/plain": [
       "0        2\n",
       "1        2\n",
       "2        2\n",
       "3        2\n",
       "4        2\n",
       "        ..\n",
       "35784    1\n",
       "35785    1\n",
       "35786    1\n",
       "35787    1\n",
       "35788    1\n",
       "Name: label, Length: 35732, dtype: int64"
      ]
     },
     "execution_count": 64,
     "metadata": {},
     "output_type": "execute_result"
    }
   ],
   "source": [
    "# Label Encoding \n",
    "from sklearn.preprocessing import LabelEncoder\n",
    "\n",
    "label_encoder = LabelEncoder()\n",
    "df['label'] = label_encoder.fit_transform(df['Sentiment'])\n",
    "df['label']\n"
   ]
  },
  {
   "cell_type": "code",
   "execution_count": null,
   "id": "442cf3d6-3db4-4ca0-aaa0-58d0fd73f5cb",
   "metadata": {},
   "outputs": [],
   "source": []
  }
 ],
 "metadata": {
  "kernelspec": {
   "display_name": "Python 3 (ipykernel)",
   "language": "python",
   "name": "python3"
  },
  "language_info": {
   "codemirror_mode": {
    "name": "ipython",
    "version": 3
   },
   "file_extension": ".py",
   "mimetype": "text/x-python",
   "name": "python",
   "nbconvert_exporter": "python",
   "pygments_lexer": "ipython3",
   "version": "3.12.3"
  }
 },
 "nbformat": 4,
 "nbformat_minor": 5
}
